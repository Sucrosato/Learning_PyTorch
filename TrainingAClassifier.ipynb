{
 "cells": [
  {
   "cell_type": "code",
   "execution_count": 6,
   "id": "077af798",
   "metadata": {},
   "outputs": [],
   "source": [
    "import torch\n",
    "import torchvision\n",
    "import torchvision.transforms as transforms"
   ]
  },
  {
   "cell_type": "code",
   "execution_count": 57,
   "id": "abd4e3c8",
   "metadata": {},
   "outputs": [],
   "source": [
    "transform = transforms.Compose(\n",
    "    [transforms.ToTensor(),\n",
    "     transforms.Normalize((0.5, 0.5, 0.5), (0.5, 0.5, 0.5))]\n",
    ")\n",
    "batch_size = 4\n",
    "trainset = torchvision.datasets.CIFAR10(root = './data', train=True,\n",
    "                                        download=True, transform=transform)\n",
    "trainloader = torch.utils.data.DataLoader(trainset, batch_size=batch_size,\n",
    "                                          shuffle=True, num_workers=2)\n",
    "\n",
    "testset = torchvision.datasets.CIFAR10(root = './data', train=False,\n",
    "                                        download=True, transform=transform)\n",
    "testloader = torch.utils.data.DataLoader(testset, batch_size=batch_size,\n",
    "                                          shuffle=False, num_workers=2)\n",
    "\n",
    "classes = ('plane', 'car', 'bird', 'cat',\n",
    "           'deer', 'dog', 'frog', 'horse', 'ship', 'truck')"
   ]
  },
  {
   "cell_type": "code",
   "execution_count": 58,
   "id": "68b2c239",
   "metadata": {},
   "outputs": [
    {
     "data": {
      "image/png": "[encoded data removed]",
      "text/plain": [
       "<Figure size 640x480 with 1 Axes>"
      ]
     },
     "metadata": {},
     "output_type": "display_data"
    },
    {
     "name": "stdout",
     "output_type": "stream",
     "text": [
      "frog       truck      horse      plane     \n"
     ]
    }
   ],
   "source": [
    "import matplotlib.pyplot as plt\n",
    "import numpy as np\n",
    "\n",
    "def imshow(img):\n",
    "    img = img / 2 + 0.5\n",
    "    npimg = img.numpy()\n",
    "    plt.imshow(np.transpose(npimg, (1, 2, 0)))\n",
    "    plt.show()\n",
    "\n",
    "dataiter = iter(trainloader)\n",
    "images, labels = next(dataiter)\n",
    "\n",
    "imshow(torchvision.utils.make_grid(images))\n",
    "print(' '.join(f'{classes[labels[j]]:10s}' for j in range(batch_size)))\n"
   ]
  },
  {
   "cell_type": "code",
   "execution_count": 51,
   "id": "78fc65d9",
   "metadata": {},
   "outputs": [],
   "source": [
    "import torch.nn as nn\n",
    "import torch.nn.functional as F\n",
    "\n",
    "class Net(nn.Module):\n",
    "    def __init__(self):\n",
    "        super().__init__()\n",
    "        #self.conv1 = nn.Conv2d(3, 6, 5)\n",
    "        self.conv1 = nn.Conv2d(3, 60, 5)\n",
    "        self.pool = nn.MaxPool2d(2, 2)\n",
    "        #self.conv2 = nn.Conv2d(6, 16, 5)\n",
    "        #self.conv2 = nn.Conv2d(60, 16, 5)\n",
    "        self.conv2 = nn.Conv2d(60, 32, 5)\n",
    "        self.fc1 = nn.Linear(5 * 5 * 32, 240)\n",
    "        self.fc2 = nn.Linear(240, 84)\n",
    "        self.fc3 = nn.Linear(84, 10)\n",
    "\n",
    "    def forward(self, x):\n",
    "        x = self.pool(F.relu(self.conv1(x)))\n",
    "        x = self.pool(F.relu(self.conv2(x)))\n",
    "        x = torch.flatten(x, 1)\n",
    "        x = F.relu(self.fc1(x))\n",
    "        x = F.relu(self.fc2(x))\n",
    "        x = self.fc3(x)\n",
    "        return x\n",
    "net = Net()\n",
    "\n",
    "import torch.optim as optim\n",
    "\n",
    "criterion = nn.CrossEntropyLoss()\n",
    "optimizer = optim.SGD(net.parameters(), lr=0.001, momentum=0.9)\n"
   ]
  },
  {
   "cell_type": "code",
   "execution_count": 50,
   "id": "1f4410c5",
   "metadata": {},
   "outputs": [
    {
     "name": "stdout",
     "output_type": "stream",
     "text": [
      "cpu\n",
      "1 :  2000 , loss: 2.052\n",
      "1 :  4000 , loss: 1.674\n",
      "1 :  6000 , loss: 1.529\n",
      "1 :  8000 , loss: 1.450\n",
      "1 : 10000 , loss: 1.362\n",
      "1 : 12000 , loss: 1.324\n",
      "2 :  2000 , loss: 1.219\n",
      "2 :  4000 , loss: 1.161\n",
      "2 :  6000 , loss: 1.142\n",
      "2 :  8000 , loss: 1.112\n",
      "2 : 10000 , loss: 1.093\n",
      "2 : 12000 , loss: 1.069\n",
      "Finish Training\n"
     ]
    }
   ],
   "source": [
    "device = torch.device('cpu')\n",
    "net.to(device)\n",
    "print(device)\n",
    "for epoch in range(2):\n",
    "\n",
    "    running_loss = 0.0\n",
    "    for i, data in enumerate(trainloader, 0):\n",
    "        input, label = data[0].to(device), data[1].to(device) #\n",
    "        optimizer.zero_grad()\n",
    "\n",
    "        output = net(input)\n",
    "        loss = criterion(output, label)\n",
    "        loss.backward()\n",
    "        optimizer.step()\n",
    "\n",
    "        running_loss += loss.item()\n",
    "        if i % 2000 == 1999:\n",
    "            print(f\"{epoch + 1} : {i + 1:5d} , loss: {running_loss / 2000:.3f}\")\n",
    "            running_loss = 0.0\n",
    "print(\"Finish Training\")"
   ]
  },
  {
   "cell_type": "code",
   "execution_count": 54,
   "id": "d129fb5f",
   "metadata": {},
   "outputs": [
    {
     "name": "stdout",
     "output_type": "stream",
     "text": [
      "cuda:0\n",
      "1 :  2000 , loss: 0.697\n",
      "1 :  4000 , loss: 0.696\n",
      "1 :  6000 , loss: 0.723\n",
      "1 :  8000 , loss: 0.718\n",
      "1 : 10000 , loss: 0.720\n",
      "1 : 12000 , loss: 0.714\n",
      "2 :  2000 , loss: 0.603\n",
      "2 :  4000 , loss: 0.602\n",
      "2 :  6000 , loss: 0.621\n",
      "2 :  8000 , loss: 0.657\n",
      "2 : 10000 , loss: 0.647\n",
      "2 : 12000 , loss: 0.654\n",
      "3 :  2000 , loss: 0.502\n",
      "3 :  4000 , loss: 0.545\n",
      "3 :  6000 , loss: 0.567\n",
      "3 :  8000 , loss: 0.591\n",
      "3 : 10000 , loss: 0.577\n",
      "3 : 12000 , loss: 0.583\n",
      "4 :  2000 , loss: 0.452\n",
      "4 :  4000 , loss: 0.463\n",
      "4 :  6000 , loss: 0.489\n",
      "4 :  8000 , loss: 0.546\n",
      "4 : 10000 , loss: 0.523\n",
      "4 : 12000 , loss: 0.524\n",
      "5 :  2000 , loss: 0.393\n",
      "5 :  4000 , loss: 0.420\n",
      "5 :  6000 , loss: 0.442\n",
      "5 :  8000 , loss: 0.478\n",
      "5 : 10000 , loss: 0.451\n",
      "5 : 12000 , loss: 0.480\n",
      "Finish Training\n"
     ]
    }
   ],
   "source": [
    "device = torch.device('cuda:0' if torch.cuda.is_available() else 'cpu')\n",
    "print(device)\n",
    "net.to(device) #\n",
    "for epoch in range(5):\n",
    "\n",
    "    running_loss = 0.0\n",
    "    for i, data in enumerate(trainloader, 0):\n",
    "        input, label = data[0].to(device), data[1].to(device) #\n",
    "        optimizer.zero_grad()\n",
    "\n",
    "        output = net(input)\n",
    "        loss = criterion(output, label)\n",
    "        loss.backward()\n",
    "        optimizer.step()\n",
    "\n",
    "        running_loss += loss.item()\n",
    "        if i % 2000 == 1999:\n",
    "            print(f\"{epoch + 1} : {i + 1:5d} , loss: {running_loss / 2000:.3f}\")\n",
    "            running_loss = 0.0\n",
    "print(\"Finish Training\")\n",
    "\n",
    "\n",
    "\n"
   ]
  },
  {
   "cell_type": "code",
   "execution_count": 55,
   "id": "c3507879",
   "metadata": {},
   "outputs": [],
   "source": [
    "PATH = './cifar_net.pth'\n",
    "torch.save(net.state_dict(), PATH)"
   ]
  },
  {
   "cell_type": "code",
   "execution_count": null,
   "id": "80bf6f8b",
   "metadata": {},
   "outputs": [],
   "source": []
  },
  {
   "cell_type": "code",
   "execution_count": 67,
   "id": "88821bbe",
   "metadata": {},
   "outputs": [
    {
     "data": {
      "image/png": "[encoded data removed]",
      "text/plain": [
       "<Figure size 640x480 with 1 Axes>"
      ]
     },
     "metadata": {},
     "output_type": "display_data"
    },
    {
     "name": "stdout",
     "output_type": "stream",
     "text": [
      "True labels car        car        ship       plane     \n"
     ]
    }
   ],
   "source": [
    "# dataiter = iter(testloader)\n",
    "images, labels = next(dataiter)\n",
    "imshow(torchvision.utils.make_grid(images))\n",
    "print(\"True labels\", ' '.join(f'{classes[labels[i]]:10s}' for i in range(4)))"
   ]
  },
  {
   "cell_type": "code",
   "execution_count": 61,
   "id": "5aa7eeea",
   "metadata": {},
   "outputs": [
    {
     "data": {
      "text/plain": [
       "<All keys matched successfully>"
      ]
     },
     "execution_count": 61,
     "metadata": {},
     "output_type": "execute_result"
    }
   ],
   "source": [
    "net = Net()\n",
    "PATH = './cifar_net.pth'\n",
    "net.load_state_dict(torch.load(PATH, weights_only=True))"
   ]
  },
  {
   "cell_type": "code",
   "execution_count": 68,
   "id": "23d081b0",
   "metadata": {},
   "outputs": [
    {
     "name": "stdout",
     "output_type": "stream",
     "text": [
      "Predicted labels:  car        car        ship       plane     \n"
     ]
    }
   ],
   "source": [
    "output = net(images)\n",
    "_, predicted = torch.max(output, 1)\n",
    "print(\"Predicted labels: \", ' '.join(f'{classes[predicted[j]]:10s}' for j in range(4)))"
   ]
  },
  {
   "cell_type": "code",
   "execution_count": 69,
   "id": "2f702025",
   "metadata": {},
   "outputs": [
    {
     "name": "stdout",
     "output_type": "stream",
     "text": [
      "Accuracy: 71.330000%\n",
      "plane : 671 correct in 1000,acc: 67.1\n",
      "car : 812 correct in 1000,acc: 81.2\n",
      "bird : 558 correct in 1000,acc: 55.8\n",
      "cat : 529 correct in 1000,acc: 52.9\n",
      "deer : 687 correct in 1000,acc: 68.7\n",
      "dog : 546 correct in 1000,acc: 54.6\n",
      "frog : 837 correct in 1000,acc: 83.7\n",
      "horse : 786 correct in 1000,acc: 78.6\n",
      "ship : 836 correct in 1000,acc: 83.6\n",
      "truck : 871 correct in 1000,acc: 87.1\n"
     ]
    }
   ],
   "source": [
    "correct = 0\n",
    "total = 0\n",
    "correct_pred = {classname: 0 for classname in classes}\n",
    "total_pred = {classname: 0 for classname in classes}\n",
    "with torch.no_grad():\n",
    "    for data in testloader:\n",
    "        images, labels = data\n",
    "        output = net(images)\n",
    "        _, predicted = torch.max(output, 1)\n",
    "        correct += (predicted == labels).sum().item()\n",
    "        total += labels.size(0)\n",
    "        for label, pred in zip(labels, predicted):\n",
    "            total_pred[classes[label]] += 1\n",
    "            if pred == label:\n",
    "                correct_pred[classes[label]] += 1\n",
    "\n",
    "print(f'Accuracy: {100 * correct /total:5f}%')\n",
    "for classname in classes:\n",
    "    print(f\"{classname} : {correct_pred[classname]} correct in {total_pred[classname]},\"\n",
    "           f\"acc: {100 * correct_pred[classname] / total_pred[classname]}\")"
   ]
  },
  {
   "cell_type": "code",
   "execution_count": null,
   "id": "4ff39a04",
   "metadata": {},
   "outputs": [
    {
     "name": "stdout",
     "output_type": "stream",
     "text": [
      "cuda\n"
     ]
    }
   ],
   "source": []
  }
 ],
 "metadata": {
  "kernelspec": {
   "display_name": "myEnv",
   "language": "python",
   "name": "python3"
  },
  "language_info": {
   "codemirror_mode": {
    "name": "ipython",
    "version": 3
   },
   "file_extension": ".py",
   "mimetype": "text/x-python",
   "name": "python",
   "nbconvert_exporter": "python",
   "pygments_lexer": "ipython3",
   "version": "3.13.2"
  }
 },
 "nbformat": 4,
 "nbformat_minor": 5
}
